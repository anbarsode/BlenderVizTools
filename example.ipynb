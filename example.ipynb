{
 "cells": [
  {
   "cell_type": "code",
   "execution_count": 1,
   "id": "462ac2c8-88d3-4b70-9887-4a20c5093eb5",
   "metadata": {},
   "outputs": [],
   "source": [
    "import numpy as np\n",
    "import BlenderVizTools as bvt\n",
    "import os"
   ]
  },
  {
   "cell_type": "code",
   "execution_count": 2,
   "id": "56e205a1-9578-446b-b13b-2c838ba5dfe0",
   "metadata": {},
   "outputs": [
    {
     "name": "stdout",
     "output_type": "stream",
     "text": [
      "dict_keys(['arr3d', 'spectral_index', 'extent', 'metadata'])\n",
      "Metadata: 3D array of shape (Nx, Ny, Nz) containing (1 + ) a gaussian random field with spectral_index, approximating a cosmological density field between extent.\n",
      "spectral_index: -1.8\n",
      "extent: [[ 0. 64.]\n",
      " [ 0. 64.]\n",
      " [ 0. 64.]]\n",
      "shape: (64, 64, 64)\n"
     ]
    }
   ],
   "source": [
    "D = np.load('cube_cosmo.npz')\n",
    "print(dict(D).keys())\n",
    "print('Metadata:', D['metadata'])\n",
    "print('spectral_index:', D['spectral_index'])\n",
    "print('extent:', D['extent'])\n",
    "print('shape:', D['arr3d'].shape)"
   ]
  },
  {
   "cell_type": "code",
   "execution_count": 3,
   "id": "179cb084-7b97-4ad3-b905-599b83e7139a",
   "metadata": {},
   "outputs": [
    {
     "name": "stdout",
     "output_type": "stream",
     "text": [
      "Read prefs: \"/home/ankur/.config/blender/3.6/config/userpref.blend\"\n",
      "Saved session recovery to \"/tmp/quit.blend\"\n",
      "Writing userprefs: \"/home/ankur/.config/blender/3.6/config/userpref.blend\" ok\n",
      "Info: Preferences saved\n",
      "Info: Objects moved to array\n",
      "\n",
      "Blender quit\n"
     ]
    },
    {
     "data": {
      "text/plain": [
       "0"
      ]
     },
     "execution_count": 3,
     "metadata": {},
     "output_type": "execute_result"
    }
   ],
   "source": [
    "arr3d = D['arr3d']\n",
    "extent = D['extent']\n",
    "slices_data = bvt.create_slices(arr3d)\n",
    "script_name = bvt.volume_render(slices_data)\n",
    "os.system('blender -P %s' % script_name)"
   ]
  },
  {
   "cell_type": "code",
   "execution_count": 4,
   "id": "2383e9cf-92a5-4d4e-bb8b-7544d06ab21f",
   "metadata": {},
   "outputs": [
    {
     "name": "stdout",
     "output_type": "stream",
     "text": [
      "dict_keys(['arr3d', 'theta', 'phi', 'r', 'metadata'])\n",
      "Metadata: 3D array of shape (Ntheta, Nphi, Nr) containing the amplitude of the + polarization of the leading order GWs emitted by a circular binary.\n",
      "shape: (64, 128, 32)\n"
     ]
    }
   ],
   "source": [
    "D = np.load('sphere_GW22+.npz')\n",
    "print(dict(D).keys())\n",
    "print('Metadata:', D['metadata'])\n",
    "print('shape:', D['arr3d'].shape)"
   ]
  },
  {
   "cell_type": "code",
   "execution_count": 5,
   "id": "98248079-c26b-4daf-8bc6-47aa664e667b",
   "metadata": {},
   "outputs": [
    {
     "name": "stdout",
     "output_type": "stream",
     "text": [
      "Read prefs: \"/home/ankur/.config/blender/3.6/config/userpref.blend\"\n",
      "Saved: 'image.png'\n",
      " Time: 00:44.74 (Saving: 00:00.08)\n",
      "\n",
      "Saved session recovery to \"/tmp/quit.blend\"\n",
      "Writing userprefs: \"/home/ankur/.config/blender/3.6/config/userpref.blend\" ok\n",
      "Info: Preferences saved\n",
      "Info: Objects moved to array\n",
      "\n",
      "Blender quit\n"
     ]
    },
    {
     "data": {
      "text/plain": [
       "0"
      ]
     },
     "execution_count": 5,
     "metadata": {},
     "output_type": "execute_result"
    }
   ],
   "source": [
    "arr3d = D['arr3d']\n",
    "slices_data = bvt.create_slices(arr3d)\n",
    "script_name = bvt.volume_render(slices_data, kind='sphere')\n",
    "os.system('blender -P %s' % script_name)"
   ]
  },
  {
   "cell_type": "code",
   "execution_count": null,
   "id": "6579748c-16ed-4f59-ba19-853b50228f64",
   "metadata": {},
   "outputs": [],
   "source": []
  },
  {
   "cell_type": "code",
   "execution_count": null,
   "id": "381990c4-3f63-4f13-b52b-760c3f1d4fa1",
   "metadata": {},
   "outputs": [],
   "source": []
  }
 ],
 "metadata": {
  "kernelspec": {
   "display_name": "Python 3 (ipykernel)",
   "language": "python",
   "name": "python3"
  },
  "language_info": {
   "codemirror_mode": {
    "name": "ipython",
    "version": 3
   },
   "file_extension": ".py",
   "mimetype": "text/x-python",
   "name": "python",
   "nbconvert_exporter": "python",
   "pygments_lexer": "ipython3",
   "version": "3.9.12"
  }
 },
 "nbformat": 4,
 "nbformat_minor": 5
}
