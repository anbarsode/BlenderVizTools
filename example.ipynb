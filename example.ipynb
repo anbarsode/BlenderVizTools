{
 "cells": [
  {
   "cell_type": "code",
   "execution_count": 1,
   "id": "462ac2c8-88d3-4b70-9887-4a20c5093eb5",
   "metadata": {},
   "outputs": [],
   "source": [
    "import numpy as np\n",
    "import BlenderVizTools as bvt\n",
    "import os"
   ]
  },
  {
   "cell_type": "code",
   "execution_count": 2,
   "id": "56e205a1-9578-446b-b13b-2c838ba5dfe0",
   "metadata": {},
   "outputs": [
    {
     "name": "stdout",
     "output_type": "stream",
     "text": [
      "dict_keys(['arr3d', 'spectral_index', 'extent', 'metadata'])\n",
      "Metadata: 3D array of shape (Nx, Ny, Nz) containing (1 + ) a gaussian random field with spectral_index, approximating a cosmological density field between extent.\n",
      "spectral_index: -1.8\n",
      "extent: [[ 0. 64.]\n",
      " [ 0. 64.]\n",
      " [ 0. 64.]]\n",
      "shape: (64, 64, 64)\n"
     ]
    }
   ],
   "source": [
    "D = np.load('cube_cosmo.npz')\n",
    "print(dict(D).keys())\n",
    "print('Metadata:', D['metadata'])\n",
    "print('spectral_index:', D['spectral_index'])\n",
    "print('extent:', D['extent'])\n",
    "print('shape:', D['arr3d'].shape)"
   ]
  },
  {
   "cell_type": "code",
   "execution_count": 89,
   "id": "159c8308-d03b-4262-9d31-7566e7162115",
   "metadata": {},
   "outputs": [
    {
     "name": "stderr",
     "output_type": "stream",
     "text": [
      "Traceback (most recent call last):\n",
      "  File \"/home/ankur/Research/BlenderViz/BlenderVizTools/MRE_appearance.py\", line 17, in <module>\n",
      "    main_area = [a for a in bpy.context.window.screen.areas if a.type == 'VIEW_3D'][0]\n",
      "                            ^^^^^^^^^^^^^^^^^^^^^^^^^\n",
      "AttributeError: 'NoneType' object has no attribute 'screen'\n"
     ]
    },
    {
     "name": "stdout",
     "output_type": "stream",
     "text": [
      "{'active_action': None, 'active_annotation_layer': None, 'active_bone': None, 'active_editable_fcurve': None, 'active_gpencil_frame': None, 'active_gpencil_layer': None, 'active_nla_strip': None, 'active_nla_track': None, 'active_object': bpy.data.objects['Cube'], 'active_operator': None, 'active_pose_bone': None, 'active_sequence_strip': None, 'annotation_data': None, 'annotation_data_owner': None, 'area': None, 'asset': None, 'asset_library_reference': bpy.data.workspaces['Layout']...AssetLibraryReference, 'blend_data': <bpy_struct, BlendData at 0x7cb0c3446508>, 'collection': bpy.data.collections['Collection'], 'edit_object': None, 'editable_bones': None, 'editable_fcurves': None, 'editable_gpencil_layers': None, 'editable_gpencil_strokes': None, 'editable_objects': [bpy.data.objects['Cube'], bpy.data.objects['Light'], bpy.data.objects['Camera']], 'engine': 'BLENDER_EEVEE_NEXT', 'gizmo_group': None, 'gpencil_data': None, 'gpencil_data_owner': None, 'image_paint_object': None, 'layer_collection': bpy.data.scenes['Scene']...LayerCollection, 'mode': 'OBJECT', 'object': bpy.data.objects['Cube'], 'objects_in_mode': [], 'objects_in_mode_unique_data': [], 'particle_edit_object': None, 'pose_object': None, 'preferences': <bpy_struct, Preferences at 0x890e2a0>, 'property': None, 'region': None, 'region_data': None, 'region_popup': None, 'scene': bpy.data.scenes['Scene'], 'screen': bpy.data.screens['Layout'], 'sculpt_object': None, 'selectable_objects': [bpy.data.objects['Cube'], bpy.data.objects['Light'], bpy.data.objects['Camera']], 'selected_bones': None, 'selected_editable_actions': None, 'selected_editable_bones': None, 'selected_editable_fcurves': None, 'selected_editable_keyframes': None, 'selected_editable_objects': [bpy.data.objects['Cube']], 'selected_editable_sequences': [], 'selected_movieclip_tracks': None, 'selected_nla_strips': None, 'selected_objects': [bpy.data.objects['Cube']], 'selected_pose_bones': None, 'selected_pose_bones_from_active_object': None, 'selected_sequences': [], 'selected_visible_actions': None, 'selected_visible_fcurves': None, 'sequences': [], 'space_data': None, 'tool_settings': bpy.data.scenes['Scene'].tool_settings, 'ui_list': None, 'vertex_paint_object': None, 'view_layer': bpy.data.scenes['Scene'].view_layers[\"ViewLayer\"], 'visible_bones': None, 'visible_fcurves': None, 'visible_gpencil_layers': None, 'visible_objects': [bpy.data.objects['Cube'], bpy.data.objects['Light'], bpy.data.objects['Camera']], 'visible_pose_bones': None, 'weight_paint_object': None, 'window': bpy.data.scenes['Scene']...Window, 'window_manager': bpy.data.window_managers['WinMan'], 'workspace': bpy.data.workspaces['Layout']}\n",
      "Saved session recovery to \"/tmp/quit.blend\"\n",
      "\n",
      "Blender quit\n"
     ]
    },
    {
     "data": {
      "text/plain": [
       "0"
      ]
     },
     "execution_count": 89,
     "metadata": {},
     "output_type": "execute_result"
    }
   ],
   "source": [
    "os.system('blender -P MRE_appearance.py')"
   ]
  },
  {
   "cell_type": "code",
   "execution_count": 82,
   "id": "179cb084-7b97-4ad3-b905-599b83e7139a",
   "metadata": {},
   "outputs": [
    {
     "name": "stderr",
     "output_type": "stream",
     "text": [
      "Traceback (most recent call last):\n",
      "  File \"/home/ankur/Research/BlenderViz/BlenderVizTools/__BVTcache__/array/script.py\", line 30, in <module>\n",
      "    create_scalar_Cuboid_layer(i, z_locs[i], z_locs[i+1], images[i], images[i+1], cmap_name = cmap, obj_scale = [1, 1, 1], obj_size = 1.000000, obj_loc = [0, 0, 0], randomize_loc = True, loc_tol = loc_tol)\n",
      "  File \"/home/ankur/Research/BlenderViz/BlenderVizTools/materials.py\", line 16, in create_scalar_Cuboid_layer\n",
      "    bpy.context.active_object.name = 'Layer %d' % ID\n",
      "    ^^^^^^^^^^^^^^^^^^^^^^^^^\n",
      "AttributeError: 'Context' object has no attribute 'active_object'\n"
     ]
    },
    {
     "name": "stdout",
     "output_type": "stream",
     "text": [
      "Saved session recovery to \"/tmp/quit.blend\"\n",
      "Writing userprefs: \"/home/ankur/.config/blender/4.2/config/userpref.blend\" ok\n",
      "Info: Preferences saved\n",
      "\n",
      "Blender quit\n"
     ]
    },
    {
     "data": {
      "text/plain": [
       "0"
      ]
     },
     "execution_count": 82,
     "metadata": {},
     "output_type": "execute_result"
    }
   ],
   "source": [
    "arr3d = D['arr3d']\n",
    "extent = D['extent']\n",
    "slices_data = bvt.create_slices(arr3d)\n",
    "script_name = bvt.volume_render(slices_data)\n",
    "os.system('blender -P %s' % script_name)"
   ]
  },
  {
   "cell_type": "code",
   "execution_count": 4,
   "id": "2383e9cf-92a5-4d4e-bb8b-7544d06ab21f",
   "metadata": {},
   "outputs": [
    {
     "name": "stdout",
     "output_type": "stream",
     "text": [
      "dict_keys(['arr3d', 'theta', 'phi', 'r', 'metadata'])\n",
      "Metadata: 3D array of shape (Ntheta, Nphi, Nr) containing the amplitude of the + polarization of the leading order GWs emitted by a circular binary.\n",
      "shape: (64, 128, 32)\n"
     ]
    }
   ],
   "source": [
    "D = np.load('sphere_GW22+.npz')\n",
    "print(dict(D).keys())\n",
    "print('Metadata:', D['metadata'])\n",
    "print('shape:', D['arr3d'].shape)"
   ]
  },
  {
   "cell_type": "code",
   "execution_count": 5,
   "id": "98248079-c26b-4daf-8bc6-47aa664e667b",
   "metadata": {},
   "outputs": [
    {
     "name": "stdout",
     "output_type": "stream",
     "text": [
      "Read prefs: \"/home/ankur/.config/blender/3.6/config/userpref.blend\"\n",
      "Saved: 'image.png'\n",
      " Time: 00:44.74 (Saving: 00:00.08)\n",
      "\n",
      "Saved session recovery to \"/tmp/quit.blend\"\n",
      "Writing userprefs: \"/home/ankur/.config/blender/3.6/config/userpref.blend\" ok\n",
      "Info: Preferences saved\n",
      "Info: Objects moved to array\n",
      "\n",
      "Blender quit\n"
     ]
    },
    {
     "data": {
      "text/plain": [
       "0"
      ]
     },
     "execution_count": 5,
     "metadata": {},
     "output_type": "execute_result"
    }
   ],
   "source": [
    "arr3d = D['arr3d']\n",
    "slices_data = bvt.create_slices(arr3d)\n",
    "script_name = bvt.volume_render(slices_data, kind='sphere')\n",
    "os.system('blender -P %s' % script_name)"
   ]
  },
  {
   "cell_type": "code",
   "execution_count": null,
   "id": "381990c4-3f63-4f13-b52b-760c3f1d4fa1",
   "metadata": {},
   "outputs": [],
   "source": []
  }
 ],
 "metadata": {
  "kernelspec": {
   "display_name": "Python 3 (ipykernel)",
   "language": "python",
   "name": "python3"
  },
  "language_info": {
   "codemirror_mode": {
    "name": "ipython",
    "version": 3
   },
   "file_extension": ".py",
   "mimetype": "text/x-python",
   "name": "python",
   "nbconvert_exporter": "python",
   "pygments_lexer": "ipython3",
   "version": "3.9.12"
  }
 },
 "nbformat": 4,
 "nbformat_minor": 5
}
